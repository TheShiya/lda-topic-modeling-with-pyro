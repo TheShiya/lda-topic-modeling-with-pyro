{
 "cells": [
  {
   "cell_type": "markdown",
   "metadata": {},
   "source": [
    "# COMS6998 Final Report\n",
    "Liushiya Chen $\\quad$ Peimou Sun"
   ]
  },
  {
   "cell_type": "code",
   "execution_count": 1,
   "metadata": {},
   "outputs": [],
   "source": [
    "PACKAGE_PATH = \"F:\\PSun-dev\\Python\\mlpp_project\" # change the package path\n",
    "import os\n",
    "os.environ[\"KMP_DUPLICATE_LIB_OK\"]=\"TRUE\"\n",
    "import sys\n",
    "import time\n",
    "sys.path.append(PACKAGE_PATH)\n",
    "\n",
    "import collections\n",
    "import matplotlib.pyplot as plt\n",
    "import numpy as np\n",
    "import pandas as pd\n",
    "import pyro\n",
    "import torch\n",
    "from pyro.optim import ClippedAdam\n",
    "import pyro.distributions as dist\n",
    "\n",
    "from ldavi.bbvi import LDABBVI\n",
    "from ldavi.cavi import LDACAVI\n",
    "from util import load_process, run_mc_experiment,cavi_topic_criticism"
   ]
  },
  {
   "cell_type": "markdown",
   "metadata": {},
   "source": [
    "## 1. Problem statement and data description"
   ]
  },
  {
   "cell_type": "markdown",
   "metadata": {},
   "source": [
    "### 1.1 Problem statement"
   ]
  },
  {
   "cell_type": "markdown",
   "metadata": {},
   "source": [
    "The goal of this project is to justify if BBVI can be a good alternative to the more model-specific CAVI. The hypothesis is that, like text document, each order can be explained by a set of \"topics\". For example, a shopping cart with the following products: \\{baby food, diapers, plant-based meat, soy milk\\} might be explained by the \"Baby\" and \"Veganism\" topics. "
   ]
  },
  {
   "cell_type": "markdown",
   "metadata": {},
   "source": [
    "### 1.2 Data description"
   ]
  },
  {
   "cell_type": "markdown",
   "metadata": {},
   "source": [
    "We are using Instacart order data. The data set consists of a set of orders, and each order is a set of products. For each product, we know its name, department, and aisle number. The data include 49,688 types of products and 1,384,617 records of purchased products.\n",
    "\n",
    "**Data Preprocessing:**\n",
    "\n",
    "The product names are lightly preprocessed to reduce the number of unique items:\n",
    "\n",
    "1) Only the last two words of each product name is kept. This gives us a good idea of what most items are and drops detailed descriptions.\n",
    "\n",
    "2) We used a manually created list of \"stopwords\" to remove words that are not descriptive (e.g. \"oz\", \"gallon\", \"ct\", \"lb\")\n",
    "\n",
    "Examples: \"Mexican Big Green Organic Avocados\" to \"Organic Avocados\" and \"1 Gallon Milk\" to \"Milk\""
   ]
  },
  {
   "cell_type": "code",
   "execution_count": 2,
   "metadata": {
    "scrolled": false
   },
   "outputs": [
    {
     "data": {
      "text/html": [
       "<div>\n",
       "<style scoped>\n",
       "    .dataframe tbody tr th:only-of-type {\n",
       "        vertical-align: middle;\n",
       "    }\n",
       "\n",
       "    .dataframe tbody tr th {\n",
       "        vertical-align: top;\n",
       "    }\n",
       "\n",
       "    .dataframe thead th {\n",
       "        text-align: right;\n",
       "    }\n",
       "</style>\n",
       "<table border=\"1\" class=\"dataframe\">\n",
       "  <thead>\n",
       "    <tr style=\"text-align: right;\">\n",
       "      <th></th>\n",
       "      <th>products</th>\n",
       "    </tr>\n",
       "  </thead>\n",
       "  <tbody>\n",
       "    <tr>\n",
       "      <th>0</th>\n",
       "      <td>[spring water, calcium vitamin, bean yogurt, organic ban...</td>\n",
       "    </tr>\n",
       "    <tr>\n",
       "      <th>1</th>\n",
       "      <td>[salad dressing, seedless grapes, organic bananas, chopp...</td>\n",
       "    </tr>\n",
       "    <tr>\n",
       "      <th>2</th>\n",
       "      <td>[irish butter, almond milk, breakfast sausage, sunday ba...</td>\n",
       "    </tr>\n",
       "    <tr>\n",
       "      <th>3</th>\n",
       "      <td>[organic strawberries, genoa salami, baby carrots, corn ...</td>\n",
       "    </tr>\n",
       "    <tr>\n",
       "      <th>4</th>\n",
       "      <td>[banana, vanilla yogurt, honeycrisp apple, baby spinach,...</td>\n",
       "    </tr>\n",
       "  </tbody>\n",
       "</table>\n",
       "</div>"
      ],
      "text/plain": [
       "                                                      products\n",
       "0  [spring water, calcium vitamin, bean yogurt, organic ban...\n",
       "1  [salad dressing, seedless grapes, organic bananas, chopp...\n",
       "2  [irish butter, almond milk, breakfast sausage, sunday ba...\n",
       "3  [organic strawberries, genoa salami, baby carrots, corn ...\n",
       "4  [banana, vanilla yogurt, honeycrisp apple, baby spinach,..."
      ]
     },
     "execution_count": 2,
     "metadata": {},
     "output_type": "execute_result"
    }
   ],
   "source": [
    "order, data, vocab = load_process(nrows=200)\n",
    "data_series = pd.Series(data)\n",
    "pd.set_option('display.max_colwidth', 60)\n",
    "pd.DataFrame(data_series.rename('products')).head(5)"
   ]
  },
  {
   "cell_type": "code",
   "execution_count": 3,
   "metadata": {
    "scrolled": false
   },
   "outputs": [
    {
     "data": {
      "image/png": "[encoded data removed]",
      "text/plain": [
       "<Figure size 216x288 with 1 Axes>"
      ]
     },
     "metadata": {
      "needs_background": "light"
     },
     "output_type": "display_data"
    }
   ],
   "source": [
    "prod = pd.Series('|'.join(data_series.apply('|'.join)).split('|'))\n",
    "prod_count = prod.value_counts().head(15).iloc[::-1]\n",
    "plt.figure(figsize=(3, 4))\n",
    "plt.barh(prod_count.index, prod_count)\n",
    "plt.title('Top 15 most common products')\n",
    "plt.show()"
   ]
  },
  {
   "cell_type": "markdown",
   "metadata": {},
   "source": [
    "In this project, the 90% of data work as the training set, and the rest works as validation set. "
   ]
  },
  {
   "cell_type": "code",
   "execution_count": 4,
   "metadata": {},
   "outputs": [],
   "source": [
    "# process the validation data\n",
    "corpora = list(vocab)\n",
    "split_ = int(0.9 * len(data))\n",
    "train_data = data[:split_]\n",
    "valid_data = data[split_:]"
   ]
  },
  {
   "cell_type": "markdown",
   "metadata": {},
   "source": [
    "## 2. LDA model"
   ]
  },
  {
   "cell_type": "markdown",
   "metadata": {},
   "source": [
    "The orders are represented as random mixtures over latent topics, where each topic is characterized by a distribution over products.\n",
    "\n",
    "$K$ = number of topics, $\\quad$ $O$ = number of orders, \n",
    "\n",
    "$V$ = total number of unique products, $\\quad$ $N_i$ = number of products in order $i$,\n",
    "\n",
    "**Prior parameters:** $\\alpha, \\beta: \\alpha_i>0, \\beta_i\\in[0,1]^V, \\sum_j\\beta_{i,j}=1$, where $i = 1\\dots K$\n",
    "\n",
    "\n",
    "**Data generation process:**\n",
    "\n",
    "1. For each order $i$: $\\theta_i\\sim$ $Dir(\\alpha$), where $\\theta_i \\in [0,1]^K, \\sum_j\\theta_{i,j}=1$.\n",
    "\n",
    "2. For each product $j\\in[1..N_i]$ in order $i$: \n",
    "\n",
    "$\\quad$ 2a. pick topic $z_{i,j}\\sim$ Categorical($\\theta_i$) \n",
    "\n",
    "$\\quad$ 2b. pick product $p_{i,j}\\sim$ Categorical($\\beta_{z_{i,j}}$)\n",
    "\n",
    "\n",
    "**Joint distribution:**\n",
    "\n",
    "$$\\mathbb{P}(\\mathbf{P}, \\mathbf{Z},\\boldsymbol{\\theta};\\alpha,\\beta) = \\prod\\limits^O_{i=1} \\Pr(\\theta_i;\\alpha)\\prod\\limits^{N_i}_{j=1} \\Pr(z_{i,j}|\\theta_j)\\Pr(\\mathbf{P}_{i,j}|\\beta_{z_{i, j}})$$ \n",
    "\n",
    "\n",
    "We will test different topics numbers in the model criticism part. In the inference part, we will only show the inference result of model with 5 topics. "
   ]
  },
  {
   "cell_type": "markdown",
   "metadata": {},
   "source": [
    "## 3. Inference"
   ]
  },
  {
   "cell_type": "markdown",
   "metadata": {},
   "source": [
    "The task in inference part is to find the posterior distribution for latent variables $(\\theta, \\mathbf{Z})$.\n",
    "\n",
    "$$p(\\boldsymbol{\\theta}, \\mathbf{Z}| \\mathbf{P}, \\alpha, \\beta) = \\prod\\limits_{i = 1}^{O}\\frac{p(\\theta_i, \\mathbf{z_i}, \\mathbf{p_i}| \\alpha, \\beta)}{p(\\mathbf{p_i} | \\alpha, \\beta)}$$\n",
    "\n",
    ", where $\\mathbf{z}_i$ denotes the topics vector and $\\mathbf{p}_i$ denotes the products vector for the $i$th order. Based on the mean-field assumption, we will use BBVI and CAVI to approximate the posterior distribution and further compare the result of two inference algorithm. \n",
    "\n",
    "We calculate the ELBO and predictive probability here to show the optimization. We are using MC integral to calculate the predictive probability(with 10 particles). The general equation of predictive probability can be written as:\n",
    "\n",
    "$$p(w) = \\int_{z,\\theta} p(w, z, \\theta) dzd\\theta = \\int_{z,\\theta} p(w| z, \\theta) p(z, \\theta)dzd\\theta \\approx \\frac{1}{S}\\sum_{i=1}^S p(w | z_i, \\theta_i)$$\n",
    "\n",
    "Note that we should sample the latent varibales from the posterior distribution to calculate the predictive probability, i.e.\n",
    "$$p(w) = \\int_{z,\\theta} p(w, z, \\theta) dzd\\theta = \\int_{z,\\theta} p(w| z, \\theta) q(z, \\theta | \\phi, \\gamma)dzd\\theta \\approx \\frac{1}{S}\\sum_{i=1}^S p(w | z_i, \\theta_i)$$\n",
    "\n",
    "The predictive probability will be the metric in the criticism section. \n",
    "\n",
    "This CAVI algorithm here is not a probabilistic programming method. However, it has been proved as a reliable inference method  for topic model and it can show us the possible best inference result. Therefore, it is very helpful to show us the potential shortcomings of the BBVI. "
   ]
  },
  {
   "cell_type": "markdown",
   "metadata": {},
   "source": [
    "### 3.1 BBVI"
   ]
  },
  {
   "cell_type": "code",
   "execution_count": null,
   "metadata": {
    "scrolled": true
   },
   "outputs": [
    {
     "name": "stdout",
     "output_type": "stream",
     "text": [
      "0% (65321.0) (-24348.9) (-2500.5) | 5% (64476.6) (-24535.5) (-2447.3) | 10% (63680.5) (-24194.1) (-2466.7) | 15% (63387.3) (-24072.6) (-2427.4) | 20% (62922.7) (-23808.1) (-2446.3) | 25% (63846.2) (-23613.0) (-2425.0) | 30% (62456.1) (-23575.9) (-2396.0) | 35% (62197.0) (-23619.7) (-2380.4) | 40% (61574.4) (-23460.0) (-2391.9) | "
     ]
    }
   ],
   "source": [
    "n_topics = 5\n",
    "opt_params = {\"lr\": 0.005, \"betas\": (0.95, 0.999)}\n",
    "n_steps = 1000 # must be more than 20 steps\n",
    "n_particles = 1\n",
    "\n",
    "st = time.time()\n",
    "bbvi_obj = LDABBVI(train_data, list(vocab), \n",
    "                   valid_data, ClippedAdam, opt_params,\n",
    "                   n_topics)\n",
    "e_eblo, log_prob, valid_prob = bbvi_obj.run_svi(\n",
    "    n_steps=n_steps, num_particles=n_particles)\n",
    "print(f\"Takes {time.time() - st} seconds\")"
   ]
  },
  {
   "cell_type": "code",
   "execution_count": null,
   "metadata": {
    "scrolled": true
   },
   "outputs": [],
   "source": [
    "plt.plot(np.linspace(1, len(e_eblo), len(e_eblo)), e_eblo)\n",
    "plt.title(\"Negtive ELBO of LDA BBVI\")\n",
    "plt.xlabel(\"Steps\")\n",
    "plt.ylabel(\"Negative ELBO\")\n",
    "plt.grid()\n",
    "plt.xlim((1, len(e_eblo)))"
   ]
  },
  {
   "cell_type": "code",
   "execution_count": null,
   "metadata": {
    "scrolled": true
   },
   "outputs": [],
   "source": [
    "plt.plot(np.linspace(1, len(log_prob),\n",
    "                     len(log_prob)), log_prob)\n",
    "plt.title(\"Log Predictive Probability of LDA BBVI\")\n",
    "plt.xlabel(\"Steps\")\n",
    "plt.ylabel(\"Log Predictive Probability\")\n",
    "plt.grid()\n",
    "plt.xlim((1, len(log_prob)))"
   ]
  },
  {
   "cell_type": "code",
   "execution_count": null,
   "metadata": {},
   "outputs": [],
   "source": [
    "plt.plot(np.linspace(1, len(valid_prob), \n",
    "                     len(valid_prob)), valid_prob)\n",
    "plt.title(\"Log Validate Probability of LDA BBVI\")\n",
    "plt.xlabel(\"Steps\")\n",
    "plt.ylabel(\"Log Validate Probability\")\n",
    "plt.grid()\n",
    "plt.xlim((1, len(valid_prob)))"
   ]
  },
  {
   "cell_type": "markdown",
   "metadata": {},
   "source": [
    "### 3.2 CAVI"
   ]
  },
  {
   "cell_type": "markdown",
   "metadata": {},
   "source": [
    "In the CAVI algorithm, we approximate the posterior distribution in the order level with distribution(guide) $q(\\theta, \\mathbf{z} | \\gamma, \\phi)$, where $\\gamma$ is a $(K, 1)$ vector and $\\phi$ is a $(N_i, K)$ matrix. We further use EM algorithm to estimate the $\\alpha$ and $\\beta$. The iterative algorithm can be concluded as:\n",
    "\n",
    "1) (E-step) Find the optimal $\\gamma^{*}_i$ and $\\phi^{*}_i$ in each document.\n",
    "\n",
    "2) (M-step) Maximize the lower bound of likelihood $\\mathcal{l}(\\alpha, \\beta) = \\sum_{d=1}^{M} \\log{p}(\\mathbf{w}_d | \\alpha, \\beta)$ based on the parameters we got in the E-step.\n",
    "\n",
    "The detailed derivation can be found in reference 1. \n",
    "\n",
    "In this example, the number of topic is 5 and $\\alpha$ and $\\beta$ are randomly initialized. We also use the last 20% data as validation set. Note that we only use 10 particles to estimate the predictive probability. The ELBO may not smaller than the log probability due to the error of MC integral. "
   ]
  },
  {
   "cell_type": "code",
   "execution_count": null,
   "metadata": {},
   "outputs": [],
   "source": [
    "# model settings\n",
    "num_topics = 5\n",
    "\n",
    "# initialize the parameters\n",
    "alpha = torch.rand(size=(num_topics, )) * 10\n",
    "beta = torch.rand(size=(len(alpha), len(vocab))) \n",
    "beta /= beta.sum(-1).view(-1, 1)\n",
    "\n",
    "# instantialize the cavi_obj\n",
    "cavi_obj = LDACAVI(alpha, beta, \n",
    "                   corpora, num_topics,\n",
    "                   num_particles=1)"
   ]
  },
  {
   "cell_type": "code",
   "execution_count": null,
   "metadata": {
    "scrolled": false
   },
   "outputs": [],
   "source": [
    "cavi_obj.reset_graph()\n",
    "\n",
    "# Parameter estimation\n",
    "alpha, beta = cavi_obj.estimate_params(\n",
    "    train_data, valid_data, tol=2e-3, \n",
    "    show_step=1, max_iter=10)\n",
    "#Approximately 5 minutes for each step. Need more than 1 hour for training."
   ]
  },
  {
   "cell_type": "markdown",
   "metadata": {},
   "source": [
    "The ELBO increase monotonously in CAVI algorithm, but the predictive probability decrease first and then converge. The phenomenon is probabaly caused by estimation process of $\\alpha$ and $\\beta$. The estimation of $\\alpha$ depends on $\\gamma$, while the esimation of $\\gamma$ depends on the updates of $\\phi$. Since the estimation of $\\beta$ only depends on $\\phi$, the estimation of $\\alpha$ accumulates the estimation error of phi and beta. The update order can be shown as follows:\n",
    " \n",
    "**Document(Order) CAVI level**:\n",
    "\n",
    "$\\phi \\xrightarrow{} \\gamma$ \n",
    "\n",
    "**EM Algorithm**:\n",
    "\n",
    "$\\phi \\xrightarrow{} \\beta$ $\\quad$ $\\gamma \\xrightarrow{} \\alpha$"
   ]
  },
  {
   "cell_type": "code",
   "execution_count": null,
   "metadata": {},
   "outputs": [],
   "source": [
    "plt.plot(np.linspace(1, len(cavi_obj.trace_elbo), \n",
    "                     len(cavi_obj.trace_elbo)),\n",
    "         cavi_obj.trace_elbo)\n",
    "plt.title(\"Negtive ELBO of LDA CAVI\")\n",
    "plt.xlabel(\"Steps\")\n",
    "plt.ylabel(\"Negative ELBO\")\n",
    "plt.grid()\n",
    "plt.xlim((1, len(cavi_obj.trace_elbo)))"
   ]
  },
  {
   "cell_type": "code",
   "execution_count": null,
   "metadata": {},
   "outputs": [],
   "source": [
    "plt.plot(np.linspace(1, len(cavi_obj.trace_log_prob), \n",
    "                     len(cavi_obj.trace_log_prob)), \n",
    "         cavi_obj.trace_log_prob)\n",
    "plt.title(\"Log Prob of LDA CAVI\")\n",
    "plt.xlabel(\"Steps\")\n",
    "plt.ylabel(\"Log Prob\")\n",
    "plt.grid()\n",
    "plt.xlim((1, len(cavi_obj.trace_log_prob)))"
   ]
  },
  {
   "cell_type": "code",
   "execution_count": null,
   "metadata": {},
   "outputs": [],
   "source": [
    "plt.plot(np.linspace(1, len(cavi_obj.trace_validate_prob), \n",
    "                     len(cavi_obj.trace_validate_prob)),\n",
    "         cavi_obj.trace_validate_prob)\n",
    "plt.title(\"Validate Log Prob of LDA CAVI\")\n",
    "plt.xlabel(\"Steps\")\n",
    "plt.ylabel(\"Validate Log Prob\")\n",
    "plt.grid()\n",
    "plt.xlim((1, len(cavi_obj.trace_validate_prob)))"
   ]
  },
  {
   "cell_type": "markdown",
   "metadata": {},
   "source": [
    "## 4. Criticism"
   ]
  },
  {
   "cell_type": "markdown",
   "metadata": {},
   "source": [
    "In the validation section, we will discuss the influence of the number of topics and effect of different inference methods."
   ]
  },
  {
   "cell_type": "markdown",
   "metadata": {},
   "source": [
    "### 4.1 Model criticism"
   ]
  },
  {
   "cell_type": "markdown",
   "metadata": {},
   "source": [
    "In this section, we compare the influence of the number of topics in LDA model given en effective enough inference algorithm. The metric of the model is the predictive probability in the validation set. We only use CAVI in the criticism part, since BBVI is much more difficult to converge. "
   ]
  },
  {
   "cell_type": "code",
   "execution_count": null,
   "metadata": {},
   "outputs": [],
   "source": [
    "# warning this part will take very long time\n",
    "num_topics_list = [2, 4, 8, 16]\n",
    "st_time = time.time()\n",
    "cavi_topic_criticism(corpora, train_data, valid_data, num_topics_list)\n",
    "print(f\"Takes {time.time() - st_time}\")"
   ]
  },
  {
   "cell_type": "markdown",
   "metadata": {},
   "source": [
    "### 4.2 Inference criticism"
   ]
  },
  {
   "cell_type": "markdown",
   "metadata": {},
   "source": [
    "The reasons for the failures of BBVI can be concluded as:\n",
    "\n",
    "**a) Monte Carlo Integration Variance**\n",
    "\n",
    "When computing the ELBO gradient at each step, we are trying to estimate a quantity of the following form:\n",
    "\n",
    "$$\\nabla_{\\phi}\\mathbb{E}_{q_{\\phi}({\\bf z})} \\left [f_{\\phi}({\\bf z}) \\right]$$\n",
    "\n",
    "Before we can move the $\\nabla$ into the expectation, we need to remove the dependency of $q(z)$ on $\\phi$. This can be done by reparametrization, which is easy for LDA because the PDF of dirichlet and categorical are continuous w.r.t. their parameters.\n",
    "\n",
    "$$\\nabla_{\\phi}\\mathbb{E}_{q({\\bf \\epsilon})} \\left [f_{\\phi}(g_{\\phi}({\\bf \\epsilon})) \\right]=\n",
    "\\mathbb{E}_{q({\\bf \\epsilon})} \\left [\\nabla_{\\phi}f_{\\phi}(g_{\\phi}({\\bf \\epsilon})) \\right]$$\n",
    "\n",
    "The issue, however, is that the number of latent variables $z_{d,w}$ grows linearly with number of observations, and usually we need at least tens of thousands of observation to obtain sensible results. This greatly increases the variance of the MC integration estimate.\n",
    "\n",
    "$$\\mathbb{E}_{q(z)}[f(z)] \\approx \\frac{1}{S}\\sum^S_i f(z_i) \\text{ where } f(z) = z^2$$\n",
    "\n",
    "In the next few cells, we will demonstrate with a few toy examples how high-dimensional support for $q(z)$ can affect the variance of the estimate."
   ]
  },
  {
   "cell_type": "code",
   "execution_count": null,
   "metadata": {
    "scrolled": false
   },
   "outputs": [],
   "source": [
    "# the number of dims\n",
    "dims = [2, 5, 7, 100, 300, 600, 1000] \n",
    "q = dist.Dirichlet\n",
    "funcs = [\n",
    "    lambda x: np.sin(x),\n",
    "    lambda x: np.power(x, 2),\n",
    "    lambda x: np.power(x, 3),\n",
    "]\n",
    "\n",
    "run_mc_experiment(dims, funcs, q, n_trials=20, \n",
    "                  n_samples=100, \n",
    "                  func_names=[\"sin\", \"x-square\", \"x-cubic\"])"
   ]
  },
  {
   "cell_type": "markdown",
   "metadata": {},
   "source": [
    "The converge rate of MC integral is $O(N^{-\\frac{1}{D}})$ if we use $N$ particles in a $D$ dimensional space. "
   ]
  },
  {
   "cell_type": "markdown",
   "metadata": {},
   "source": [
    "**b) Simultaneous Parameter Update**\n",
    "\n",
    "This is again linked to the high dimensionality of the latent variables. Since the number of parameters is proportionate to the number of latent variables, BBVI needs to update a large number of parameters in each step.\n",
    "\n",
    "Since the high variance of the ELBO gradient is \n",
    "\n",
    "A potential issue is that to increment all $d$ parameters by Δ for example, we will need a vector (Δ, ..., Δ) $\\in\\mathbb{R}^d$. The norm of this vector is Δ$\\sqrt{d}$ which can be quite large as $d$ grows with observations, so it will require a similarly large learning rate. This is fine if the gradient estimate is accurate. However, our gradient estimate is noisy and it is possible to take very large steps in a few dimensions. This results in instability in our parameters."
   ]
  },
  {
   "cell_type": "markdown",
   "metadata": {},
   "source": [
    "## 5. Improvement"
   ]
  },
  {
   "cell_type": "code",
   "execution_count": null,
   "metadata": {},
   "outputs": [],
   "source": []
  },
  {
   "cell_type": "markdown",
   "metadata": {},
   "source": [
    "## Reference"
   ]
  },
  {
   "cell_type": "code",
   "execution_count": null,
   "metadata": {},
   "outputs": [],
   "source": []
  }
 ],
 "metadata": {
  "kernelspec": {
   "display_name": "MlppEnv-3.8",
   "language": "python",
   "name": "mlppenv-3.8"
  },
  "language_info": {
   "codemirror_mode": {
    "name": "ipython",
    "version": 3
   },
   "file_extension": ".py",
   "mimetype": "text/x-python",
   "name": "python",
   "nbconvert_exporter": "python",
   "pygments_lexer": "ipython3",
   "version": "3.8.5"
  }
 },
 "nbformat": 4,
 "nbformat_minor": 4
}
