{
 "cells": [
  {
   "cell_type": "markdown",
   "metadata": {},
   "source": [
    "# COMS6998 Final Report\n",
    "Liushiya Chen $\\quad$ Peimou Sun"
   ]
  },
  {
   "cell_type": "code",
   "execution_count": 1,
   "metadata": {},
   "outputs": [],
   "source": [
    "PACKAGE_PATH = \"F:\\PSun-dev\\Python\\mlpp_project\"\n",
    "import os\n",
    "import sys\n",
    "sys.path.append(PACKAGE_PATH)\n",
    "\n",
    "import collections\n",
    "import matplotlib.pyplot as plt\n",
    "import numpy as np\n",
    "import nltk\n",
    "import pandas as pd\n",
    "import pyro\n",
    "import torch\n",
    "from pyro.optim import ClippedAdam\n",
    "\n",
    "from ldavi.bbvi import LDABBVI\n",
    "from ldavi.cavi import LDACAVI\n",
    "from util import load_process"
   ]
  },
  {
   "cell_type": "markdown",
   "metadata": {},
   "source": [
    "## 1. Problem statement and data description"
   ]
  },
  {
   "cell_type": "markdown",
   "metadata": {},
   "source": [
    "### 1.1 Problem statement"
   ]
  },
  {
   "cell_type": "markdown",
   "metadata": {},
   "source": [
    "The goal of this project is to model and understand grocery shoppers' purchase patterns on Instacart (online grocery platform) using Topic Modeling. The hypothesis is that, like text document, each order can be explained by a set of \"topics\". For example, a shopping cart with the following products: \\{baby food, diapers, plant-based meat, soy milk\\} might be explained by the \"Baby\" and \"Veganism\" topics. \n",
    "\n",
    "We conduct research on the differences between BBVI, the probabilistic method, and the traditional CAVI. "
   ]
  },
  {
   "cell_type": "markdown",
   "metadata": {},
   "source": [
    "### 1.2 Data description"
   ]
  },
  {
   "cell_type": "code",
   "execution_count": 2,
   "metadata": {
    "scrolled": false
   },
   "outputs": [
    {
     "data": {
      "text/plain": [
       "array([list(['spring water', 'calcium vitamin', 'bean yogurt', 'organic bananas', 'almondmilk pudding', 'provalone cheese', 'crushed organic', 'almond milk', 'smoked bacon', 'hashed browns', 'oil olive', 'organic raspberries', 'cultured butter', 'guacamole', 'black beans', 'sorbet pops', 'dish soap', 'slices cheese', 'grassmilk milk', 'kombucha gingerade', 'hothouse cucumbers', 'salt added', 'apple sauce', 'genoa salami', 'queso fresco', 'sausage patty', 'sliced pepperoni', 'organic garlic', 'allpurpose flour', 'laundry detergent', 'parsley bunch', 'organic buttermilk', 'yellow onion', 'chicken broth', 'string cheese', 'garbanzo beans', 'organic ketchup', 'organic zucchini', 'green chiles', 'salt added', 'organic lemonade', 'maize tortillas', 'corn starch', 'hand soap', 'plastic spoons', 'aluminum foil', 'plastic wrap', 'coconut milk']),\n",
       "       list(['salad dressing', 'seedless grapes', 'organic bananas', 'chopped salad', 'wheat bread', 'greek yogurt', 'salad tomatoes', 'brown rice', 'butter spread', 'organic strawberries', 'california clementines', 'carrots', 'baby spinach', 'almond milk'])],\n",
       "      dtype=object)"
      ]
     },
     "execution_count": 2,
     "metadata": {},
     "output_type": "execute_result"
    }
   ],
   "source": [
    "order, data, vocab = load_process()\n",
    "data[:2]"
   ]
  },
  {
   "cell_type": "code",
   "execution_count": 3,
   "metadata": {
    "scrolled": true
   },
   "outputs": [
    {
     "data": {
      "text/plain": [
       "array(['acorn squash', 'adult mouthwash', 'agave nectar', ...,\n",
       "       'zucchini noodles', 'zucchini spirals', 'zucchini squash'],\n",
       "      dtype='<U33')"
      ]
     },
     "execution_count": 3,
     "metadata": {},
     "output_type": "execute_result"
    }
   ],
   "source": [
    "vocab"
   ]
  },
  {
   "cell_type": "code",
   "execution_count": 4,
   "metadata": {},
   "outputs": [],
   "source": [
    "# process the validation data\n",
    "split_ = int(0.9 * len(data))\n",
    "train_data = data[:split_]\n",
    "valid_data = data[split_:]"
   ]
  },
  {
   "cell_type": "markdown",
   "metadata": {},
   "source": [
    "## 2. LDA model"
   ]
  },
  {
   "cell_type": "markdown",
   "metadata": {},
   "source": [
    "The orders are represented as random mixtures over latent topics, where each topic is characterized by a distribution over products.\n",
    "\n",
    "$K$ = number of topics, $\\quad$ $O$ = number of orders, \n",
    "\n",
    "$V$ = total number of unique products, $\\quad$ $N_i$ = number of products in order $i$,\n",
    "\n",
    "**Prior parameters:** $\\alpha, \\beta: \\alpha_i>0, \\beta_i\\in[0,1]^V, \\sum_j\\beta_{i,j}=1$, where $i = 1\\dots K$\n",
    "\n",
    "\n",
    "**Data generation process:**\n",
    "\n",
    "1. For each order $i$: $\\theta_i\\sim$ $Dir(\\alpha$), where $\\theta_i \\in [0,1]^K, \\sum_j\\theta_{i,j}=1$.\n",
    "\n",
    "2. For each product $j\\in[1..N_i]$ in order $i$: \n",
    "\n",
    "$\\quad$ 2a. pick topic $z_{i,j}\\sim$ Categorical($\\theta_i$) \n",
    "\n",
    "$\\quad$ 2b. pick product $p_{i,j}\\sim$ Categorical($\\beta_{z_{i,j}}$)\n",
    "\n",
    "\n",
    "**Joint distribution:**\n",
    "\n",
    "$$\\mathbb{P}(\\mathbf{P}, \\mathbf{Z},\\boldsymbol{\\theta};\\alpha,\\beta) = \\prod\\limits^O_{i=1} \\Pr(\\theta_i;\\alpha)\\prod\\limits^{N_i}_{j=1} \\Pr(z_{i,j}|\\theta_j)\\Pr(\\mathbf{P}_{i,j}|\\beta_{z_{i, j}})$$ \n"
   ]
  },
  {
   "cell_type": "markdown",
   "metadata": {},
   "source": [
    "## 3. Inference"
   ]
  },
  {
   "cell_type": "markdown",
   "metadata": {},
   "source": [
    "The task in inference part is to find the posterior distribution for latent variables $(\\theta, \\mathbf{Z})$.\n",
    "\n",
    "$$p(\\boldsymbol{\\theta}, \\mathbf{Z}| \\mathbf{P}, \\alpha, \\beta) = \\prod\\limits_{i = 1}^{O}\\frac{p(\\theta_i, \\mathbf{z_i}, \\mathbf{p_i}| \\alpha, \\beta)}{p(\\mathbf{p_i} | \\alpha, \\beta)}$$\n",
    "\n",
    ", where $\\mathbf{z}_i$ denotes the topics vector and $\\mathbf{p}_i$ denotes the products vector for the $i$th order. Based on the mean-field assumption, we will use BBVI and CAVI to approximate the posterior distribution and further compare the result of two inference algorithm. \n",
    "\n",
    "We calculate the ELBO and predictive probability here to show the optimization. We are using MC integral to calculate the predictive probability(with 10 particles). The general equation of predictive probability can be written as:\n",
    "\n",
    "$$p(w) = \\int_{z,\\theta} p(w, z, \\theta) dzd\\theta = \\int_{z,\\theta} p(w| z, \\theta) p(z, \\theta)dzd\\theta \\approx \\frac{1}{S}\\sum_{i=1}^S p(w | z_i, \\theta_i)$$"
   ]
  },
  {
   "cell_type": "markdown",
   "metadata": {},
   "source": [
    "### 3.1 BBVI"
   ]
  },
  {
   "cell_type": "code",
   "execution_count": null,
   "metadata": {
    "scrolled": false
   },
   "outputs": [
    {
     "name": "stdout",
     "output_type": "stream",
     "text": [
      "0% (132507.2) (-122244.6) (-13403.3) | "
     ]
    }
   ],
   "source": [
    "# Shiya\n",
    "n_topics = 5\n",
    "opt_params = {\"lr\": 0.005, \"betas\": (0.95, 0.999)}\n",
    "n_steps = 100\n",
    "n_particles = 1\n",
    "\n",
    "bbiv_obj = LDABBVI(train_data, list(vocab), valid_data, ClippedAdam, n_topics, opt_params)\n",
    "loss = bbiv_obj.run_svi(n_steps=n_steps, num_particles=n_particles)"
   ]
  },
  {
   "cell_type": "markdown",
   "metadata": {},
   "source": [
    "### 3.2 CAVI"
   ]
  },
  {
   "cell_type": "markdown",
   "metadata": {},
   "source": [
    "In the CAVI algorithm, we approximate the posterior distribution in the order level with distribution(guide) $q(\\theta, \\mathbf{z} | \\gamma, \\phi)$, where $\\gamma$ is a $(K, 1)$ vector and $\\phi$ is a $(N_i, K)$ matrix. We further use EM algorithm to estimate the $\\alpha$ and $\\beta$. The iterative algorithm can be concluded as:\n",
    "\n",
    "1) (E-step) Find the optimal $\\gamma^{*}_i$ and $\\phi^{*}_i$ in each document.\n",
    "\n",
    "2) (M-step) Maximize the lower bound of likelihood $\\mathcal{l}(\\alpha, \\beta) = \\sum_{d=1}^{M} \\log{p}(\\mathbf{w}_d | \\alpha, \\beta)$ based on the parameters we got in the E-step.\n",
    "\n",
    "The detailed derivation can be found in reference 1. \n",
    "\n",
    "In this example, the number of topic is 5 and $\\alpha$ and $\\beta$ are randomly initialized. We also use the last 20% data as validation set. Note that we only use 10 particles to estimate the predictive probability. The ELBO may not smaller than the log probability due to the error of MC integral. "
   ]
  },
  {
   "cell_type": "code",
   "execution_count": 4,
   "metadata": {},
   "outputs": [],
   "source": [
    "# model settings\n",
    "num_topics = 5\n",
    "corpora = list(vocab)\n",
    "\n",
    "# initialize the parameters\n",
    "alpha = torch.rand(size=(num_topics, )) * 10\n",
    "beta = torch.rand(size=(len(alpha), len(vocab))) \n",
    "beta /= beta.sum(-1).view(-1, 1)\n",
    "\n",
    "# instantialize the cavi_obj\n",
    "cavi_obj = LDACAVI(alpha, beta, corpora, num_topics, num_particles=1)"
   ]
  },
  {
   "cell_type": "code",
   "execution_count": 7,
   "metadata": {
    "scrolled": false
   },
   "outputs": [
    {
     "name": "stdout",
     "output_type": "stream",
     "text": [
      "Step 1 | beta diff norm=0.1233 | alpha diff norm=6.0677 | ELBO=-59997.693 | Log_prob=-59083.706 | Validate_prob=-6622.085\n",
      "Step 2 | beta diff norm=0.0178 | alpha diff norm=5.8572 | ELBO=-52703.128 | Log_prob=-51972.884 | Validate_prob=-6623.674\n"
     ]
    }
   ],
   "source": [
    "cavi_obj.reset_graph()\n",
    "\n",
    "# Parameter estimation\n",
    "alpha, beta = cavi_obj.estimate_params(train_data, valid_data, \n",
    "                                       tol=2e-3, show_step=1, max_iter=10)\n",
    "#Approximately 5 minutes for each step. Need more than 1 hour for training."
   ]
  },
  {
   "cell_type": "markdown",
   "metadata": {},
   "source": [
    "The ELBO increase monotonously in CAVI algorithm, but the predictive probability decrease first and then converge. The phenomenon is probabaly caused by estimation process of $\\alpha$ and $\\beta$. The estimation of $\\alpha$ depends on $\\gamma$, while the esimation of $\\gamma$ depends on the updates of $\\phi$. Since the estimation of $\\beta$ only depends on $\\phi$, the estimation of $\\alpha$ accumulates the estimation error of phi and beta. The update order can be shown as follows:\n",
    " \n",
    "**Document(Order) CAVI level**:\n",
    "\n",
    "$\\phi \\xrightarrow{} \\gamma$ \n",
    "\n",
    "**EM Algorithm**:\n",
    "\n",
    "$\\phi \\xrightarrow{} \\beta$ $\\quad$ $\\gamma \\xrightarrow{} \\alpha$"
   ]
  },
  {
   "cell_type": "code",
   "execution_count": 8,
   "metadata": {},
   "outputs": [
    {
     "data": {
      "text/plain": [
       "(1.0, 2.0)"
      ]
     },
     "execution_count": 8,
     "metadata": {},
     "output_type": "execute_result"
    },
    {
     "data": {
      "image/png": "[encoded data removed]",
      "text/plain": [
       "<Figure size 432x288 with 1 Axes>"
      ]
     },
     "metadata": {
      "needs_background": "light"
     },
     "output_type": "display_data"
    }
   ],
   "source": [
    "plt.plot(np.linspace(1, len(cavi_obj.trace_elbo), len(cavi_obj.trace_elbo)), cavi_obj.trace_elbo)\n",
    "plt.title(\"Negtive ELBO of LDA CAVI\")\n",
    "plt.xlabel(\"Steps\")\n",
    "plt.ylabel(\"Negative ELBO\")\n",
    "plt.grid()\n",
    "plt.xlim((1, len(cavi_obj.trace_elbo)))"
   ]
  },
  {
   "cell_type": "code",
   "execution_count": 9,
   "metadata": {},
   "outputs": [
    {
     "data": {
      "text/plain": [
       "(1.0, 2.0)"
      ]
     },
     "execution_count": 9,
     "metadata": {},
     "output_type": "execute_result"
    },
    {
     "data": {
      "image/png": "[encoded data removed]",
      "text/plain": [
       "<Figure size 432x288 with 1 Axes>"
      ]
     },
     "metadata": {
      "needs_background": "light"
     },
     "output_type": "display_data"
    }
   ],
   "source": [
    "plt.plot(np.linspace(1, len(cavi_obj.trace_log_prob), len(cavi_obj.trace_log_prob)), cavi_obj.trace_log_prob)\n",
    "plt.title(\"Log Prob of LDA CAVI\")\n",
    "plt.xlabel(\"Steps\")\n",
    "plt.ylabel(\"Log Prob\")\n",
    "plt.grid()\n",
    "plt.xlim((1, len(cavi_obj.trace_log_prob)))"
   ]
  },
  {
   "cell_type": "code",
   "execution_count": 10,
   "metadata": {},
   "outputs": [
    {
     "data": {
      "text/plain": [
       "(1.0, 2.0)"
      ]
     },
     "execution_count": 10,
     "metadata": {},
     "output_type": "execute_result"
    },
    {
     "data": {
      "image/png": "[encoded data removed]",
      "text/plain": [
       "<Figure size 432x288 with 1 Axes>"
      ]
     },
     "metadata": {
      "needs_background": "light"
     },
     "output_type": "display_data"
    }
   ],
   "source": [
    "plt.plot(np.linspace(1, len(cavi_obj.trace_validate_prob), \n",
    "                     len(cavi_obj.trace_validate_prob)), cavi_obj.trace_validate_prob)\n",
    "plt.title(\"Validate Log Prob of LDA CAVI\")\n",
    "plt.xlabel(\"Steps\")\n",
    "plt.ylabel(\"Validate Log Prob\")\n",
    "plt.grid()\n",
    "plt.xlim((1, len(cavi_obj.trace_validate_prob)))"
   ]
  },
  {
   "cell_type": "markdown",
   "metadata": {},
   "source": [
    "## 4. Criticism"
   ]
  },
  {
   "cell_type": "code",
   "execution_count": null,
   "metadata": {},
   "outputs": [],
   "source": []
  },
  {
   "cell_type": "markdown",
   "metadata": {},
   "source": [
    "### 4.1 Model criticism"
   ]
  },
  {
   "cell_type": "markdown",
   "metadata": {},
   "source": [
    "In this section, we compare the influence of the number of topics in LDA model. The metric of the model is the predictive probability in the validation set. We only use BBVI in the criticism part."
   ]
  },
  {
   "cell_type": "markdown",
   "metadata": {},
   "source": [
    "### 4.2 Inference criticism"
   ]
  },
  {
   "cell_type": "code",
   "execution_count": null,
   "metadata": {},
   "outputs": [],
   "source": [
    "# predictive log prob. Shiya MC inte"
   ]
  },
  {
   "cell_type": "markdown",
   "metadata": {},
   "source": [
    "## 5. Improvement"
   ]
  },
  {
   "cell_type": "code",
   "execution_count": null,
   "metadata": {},
   "outputs": [],
   "source": []
  },
  {
   "cell_type": "markdown",
   "metadata": {},
   "source": [
    "## Reference"
   ]
  },
  {
   "cell_type": "code",
   "execution_count": null,
   "metadata": {},
   "outputs": [],
   "source": []
  }
 ],
 "metadata": {
  "kernelspec": {
   "display_name": "Python rshenv",
   "language": "python",
   "name": "rshenv"
  },
  "language_info": {
   "codemirror_mode": {
    "name": "ipython",
    "version": 3
   },
   "file_extension": ".py",
   "mimetype": "text/x-python",
   "name": "python",
   "nbconvert_exporter": "python",
   "pygments_lexer": "ipython3",
   "version": "3.7.9"
  }
 },
 "nbformat": 4,
 "nbformat_minor": 4
}
