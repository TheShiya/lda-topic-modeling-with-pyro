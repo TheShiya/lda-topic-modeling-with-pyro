{
 "cells": [
  {
   "cell_type": "code",
   "execution_count": 13,
   "metadata": {},
   "outputs": [],
   "source": [
    "import torch\n",
    "import pyro\n",
    "from pyro import poutine\n",
    "from pyro import distributions as dist"
   ]
  },
  {
   "cell_type": "code",
   "execution_count": null,
   "metadata": {
    "code_folding": [
     0
    ]
   },
   "outputs": [],
   "source": [
    "# Smoothed models\n",
    "\n",
    "def smoothed_lda(data):\n",
    "    alpha_prior = torch.ones(ntopics)\n",
    "    nu_prior = torch.ones(vocab_size)\n",
    "    with pyro.plate(\"topic_loop\", ntopics):\n",
    "        topics = pyro.sample(\"topics\", dist.Dirichlet(nu_prior.repeat(ntopics, 1)))\n",
    "    with pyro.plate(\"doc_loop\", ndocs) as ind:\n",
    "        data = data[:, ind]\n",
    "        theta = pyro.sample(\"theta\", dist.Dirichlet(alpha_prior))\n",
    "        with pyro.plate(\"word_loop\", nwords):\n",
    "            pyro.sample(\"z\", dist.Categorical(theta))\n",
    "            pyro.sample(\"w\", dist.Categorical(topics[z]), obs=data)\n",
    "\n",
    "\n",
    "def smoothed_guide(data):\n",
    "    lambda_q = pyro.param(\n",
    "        \"lambda_q\", torch.ones(ntopics, vocab_size), constraint=positive\n",
    "    )\n",
    "    gamma_q = pyro.param(\n",
    "        \"gamma_q\", torch.ones(ndocs, ntopics), constraint=positive\n",
    "    )\n",
    "    phi_q = pyro.param(\n",
    "        \"phi_q\", torch.ones(nwords, ndocs, ntopics), constraint=positive\n",
    "    )\n",
    "\n",
    "    with pyro.plate(\"topic_loop\", ntopics):\n",
    "        topics = pyro.sample(\"topics\", dist.Dirichlet(lambda_q))\n",
    "    with pyro.plate(\"doc_loop\", ndocs):\n",
    "        theta = pyro.sample(\"theta\", dist.Dirichlet(gamma_q))\n",
    "        with pyro.plate(\"word_loop\", nwords):\n",
    "            z = pyro.sample(\"z\", dist.Categorical(phi_q))\n",
    "    return topics, theta, z"
   ]
  },
  {
   "cell_type": "code",
   "execution_count": null,
   "metadata": {},
   "outputs": [],
   "source": [
    "from gensim.models.ldamodel import LdaModel\n",
    "from gensim import corpora\n",
    "\n",
    "id2word = dict(enumerate(set(\"|\".join(data.apply(\"|\".join)).split(\"|\"))))\n",
    "dictionary = corpora.Dictionary(data.tolist())\n",
    "corpus = [dictionary.doc2bow(text) for text in data.tolist()]\n",
    "\n",
    "NUM_TOPICS = 3\n",
    "ldamodel = LdaModel(corpus, num_topics=NUM_TOPICS, id2word=id2word, passes=15)\n",
    "ldamodel.save(\"model5.gensim\")\n",
    "\n",
    "topics = ldamodel.print_topics(num_words=5)\n",
    "for topic in topics:\n",
    "    print(topic)"
   ]
  }
 ],
 "metadata": {
  "kernelspec": {
   "display_name": "Python 3",
   "language": "python",
   "name": "python3"
  },
  "language_info": {
   "codemirror_mode": {
    "name": "ipython",
    "version": 3
   },
   "file_extension": ".py",
   "mimetype": "text/x-python",
   "name": "python",
   "nbconvert_exporter": "python",
   "pygments_lexer": "ipython3",
   "version": "3.7.4"
  }
 },
 "nbformat": 4,
 "nbformat_minor": 2
}
